{
 "cells": [
  {
   "cell_type": "code",
   "execution_count": null,
   "metadata": {},
   "outputs": [],
   "source": [
    "from keras.models import Sequential\n",
    "from keras.layers import Conv2D, MaxPooling2D, Flatten, Dense\n",
    "from keras import regularizers\n",
    "\n",
    "# Inicializando a Rede Neural Convolucional\n",
    "classifier = Sequential()\n",
    "\n",
    "# Passo 1 - Primeira Camada de Convolução\n",
    "# Aumentando o número de filtros para 64 e adicionando regularização L2\n",
    "classifier.add(Conv2D(64, (3, 3), input_shape=(64, 64, 3), activation='relu', kernel_regularizer=regularizers.l2(0.01)))\n",
    "\n",
    "# Passo 2 - Pooling\n",
    "classifier.add(MaxPooling2D(pool_size=(2, 2)))\n",
    "\n",
    "# Adicionando uma segunda camada de convolução e pooling\n",
    "# Aumentando o número de filtros para 64 e adicionando regularização L2\n",
    "classifier.add(Conv2D(64, (3, 3), activation='relu', kernel_regularizer=regularizers.l2(0.01)))\n",
    "classifier.add(MaxPooling2D(pool_size=(2, 2)))\n",
    "\n",
    "# Passo 3 - Flattening\n",
    "classifier.add(Flatten())\n",
    "\n",
    "# Passo 4 - Full connection\n",
    "# Aumentando o número de neurônios para 256 e adicionando regularização L2\n",
    "classifier.add(Dense(units=256, activation='relu', kernel_regularizer=regularizers.l2(0.01)))\n",
    "classifier.add(Dense(units=1, activation='sigmoid'))\n",
    "\n",
    "# Compilando a rede\n",
    "classifier.compile(optimizer='adam', loss='binary_crossentropy', metrics=['accuracy'])\n"
   ]
  },
  {
   "cell_type": "code",
   "execution_count": null,
   "metadata": {},
   "outputs": [],
   "source": [
    "import tensorflow as tf # type: ignore\n",
    "print(\"Versão do TensorFlow:\", tf.__version__)\n",
    "import keras as K\n",
    "print(\"Versão do Keras:\", K.__version__)"
   ]
  },
  {
   "cell_type": "code",
   "execution_count": null,
   "metadata": {},
   "outputs": [],
   "source": [
    "# Criando os objetos train_datagen e validation_datagen com as regras de pré-processamento das imagens\n",
    "from keras.preprocessing.image import ImageDataGenerator\n",
    "\n",
    "train_datagen = ImageDataGenerator(rescale = 1./255,\n",
    "                                   shear_range = 0.2,\n",
    "                                   zoom_range = 0.2,\n",
    "                                   horizontal_flip = True)\n",
    "\n",
    "validation_datagen = ImageDataGenerator(rescale = 1./255)\n",
    "\n",
    "# Pré-processamento das imagens de treino e validação\n",
    "training_set = train_datagen.flow_from_directory('bart',\n",
    "                                                 target_size = (64, 64),\n",
    "                                                 batch_size = 32,\n",
    "                                                 class_mode = 'binary')\n",
    "\n",
    "validation_set = validation_datagen.flow_from_directory('bart',\n",
    "                                                        target_size = (64, 64),\n",
    "                                                        batch_size = 32,\n",
    "                                                        class_mode = 'binary')"
   ]
  },
  {
   "cell_type": "code",
   "execution_count": null,
   "metadata": {},
   "outputs": [],
   "source": [
    "# Primeira Imagem\n",
    "import numpy as np\n",
    "from keras.preprocessing import image\n",
    "\n",
    "test_image = image.load_img('bart/bart100.bmp', target_size = (64, 64))\n",
    "test_image = image.img_to_array(test_image)\n",
    "test_image = np.expand_dims(test_image, axis = 0)\n",
    "result = classifier.predict(test_image)\n",
    "training_set.class_indices\n",
    "\n",
    "if result[0][0] == 1:\n",
    "    prediction = 'Cachorro'\n",
    "else:\n",
    "    prediction = 'Gato'\n",
    "# Previsão da primeira imagem\n",
    "prediction\n",
    "\n",
    "#Image(filename='barttest/bart1.bmp')"
   ]
  }
 ],
 "metadata": {
  "kernelspec": {
   "display_name": "Python 3",
   "language": "python",
   "name": "python3"
  },
  "language_info": {
   "codemirror_mode": {
    "name": "ipython",
    "version": 3
   },
   "file_extension": ".py",
   "mimetype": "text/x-python",
   "name": "python",
   "nbconvert_exporter": "python",
   "pygments_lexer": "ipython3",
   "version": "3.12.3"
  }
 },
 "nbformat": 4,
 "nbformat_minor": 2
}
